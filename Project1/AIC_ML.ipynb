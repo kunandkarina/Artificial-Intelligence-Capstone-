{
  "nbformat": 4,
  "nbformat_minor": 0,
  "metadata": {
    "colab": {
      "provenance": [],
      "toc_visible": true,
      "gpuType": "T4"
    },
    "kernelspec": {
      "name": "python3",
      "display_name": "Python 3"
    },
    "language_info": {
      "name": "python"
    },
    "accelerator": "GPU"
  },
  "cells": [
    {
      "cell_type": "code",
      "execution_count": 1,
      "metadata": {
        "id": "XeRkpwed7Wnq"
      },
      "outputs": [],
      "source": [
        "# --------------------------------------------------------------------machine learning--------------------------------------------------------------------\n",
        "%matplotlib inline\n",
        "!pip install mne &> /dev/null"
      ]
    },
    {
      "cell_type": "code",
      "source": [
        "from google.colab import drive\n",
        "drive.mount('/content/drive', force_remount=True)"
      ],
      "metadata": {
        "colab": {
          "base_uri": "https://localhost:8080/"
        },
        "id": "tBOVdCIn7zyv",
        "outputId": "4af4be13-883e-48ec-acd1-76e83e771b8e"
      },
      "execution_count": 2,
      "outputs": [
        {
          "output_type": "stream",
          "name": "stdout",
          "text": [
            "Mounted at /content/drive\n"
          ]
        }
      ]
    },
    {
      "cell_type": "code",
      "source": [
        "import os\n",
        "import numpy as np\n",
        "import mne\n",
        "import matplotlib.pyplot as plt\n",
        "import math\n",
        "from scipy.io import loadmat"
      ],
      "metadata": {
        "id": "2AsMrxooBwnb"
      },
      "execution_count": 3,
      "outputs": []
    },
    {
      "cell_type": "code",
      "source": [
        "mne.set_log_level(False)"
      ],
      "metadata": {
        "id": "kJtaag59Bw_0"
      },
      "execution_count": 4,
      "outputs": []
    },
    {
      "cell_type": "code",
      "source": [
        "def load_ds(pt, f):       # For BCIC Dataset\n",
        "  fp = os.path.join(pt, f)\n",
        "  print(\"File path: {}\".format(fp))\n",
        "  if fp.endswith('gdf'):\n",
        "    raw_data = mne.io.read_raw_gdf(fp)\n",
        "  else:\n",
        "    raw_data = None\n",
        "  return raw_data"
      ],
      "metadata": {
        "id": "FGAgtigxB0iH"
      },
      "execution_count": 5,
      "outputs": []
    },
    {
      "cell_type": "code",
      "source": [
        "sbj_n = 4 #@param {type:\"integer\"}\n",
        "sbj_path = 'Subject ' + str(sbj_n)"
      ],
      "metadata": {
        "id": "qRhqHWk3B07M"
      },
      "execution_count": 6,
      "outputs": []
    },
    {
      "cell_type": "code",
      "source": [
        "base_path = '/content/drive/MyDrive/EEG data'\n",
        "subj_folder = os.path.join(base_path, sbj_path)\n",
        "l = [file for file in os.listdir(subj_folder) if file.endswith('gdf')]"
      ],
      "metadata": {
        "id": "ws6Ll7cEB3Pv"
      },
      "execution_count": 7,
      "outputs": []
    },
    {
      "cell_type": "code",
      "source": [
        "print(l)"
      ],
      "metadata": {
        "colab": {
          "base_uri": "https://localhost:8080/"
        },
        "id": "3jAGJT_mJ6bc",
        "outputId": "c5eeec94-db3d-4f35-b465-d1771b9c7104"
      },
      "execution_count": 8,
      "outputs": [
        {
          "output_type": "stream",
          "name": "stdout",
          "text": [
            "['record-[2024.03.10]_S9_1.gdf', 'record-[2024.03.10]_S7_1.gdf', 'record-[2024.03.10]_S8_2.gdf', 'record-[2024.03.10]_S10_2.gdf']\n"
          ]
        }
      ]
    },
    {
      "cell_type": "code",
      "source": [
        "picked = l[0]\n",
        "print(picked)"
      ],
      "metadata": {
        "colab": {
          "base_uri": "https://localhost:8080/"
        },
        "id": "-OsgbaFDJ2lA",
        "outputId": "2ac21bbf-9b13-407d-fe3e-e17cb09d7703"
      },
      "execution_count": 9,
      "outputs": [
        {
          "output_type": "stream",
          "name": "stdout",
          "text": [
            "record-[2024.03.10]_S9_1.gdf\n"
          ]
        }
      ]
    },
    {
      "cell_type": "code",
      "source": [
        "ch_list = ['Fp1', 'Fp2', 'AF3', 'AF4', 'F7', 'F3', 'Fz', 'F4', 'F8', 'FT7', 'FC3', 'FCz','FC4', 'FT8', 'T7', 'C3', 'Cz', 'C4', 'T8', 'TP7', 'CP3', 'CPz', 'CP4', 'TP8', 'P7', 'P3', 'Pz', 'P4', 'P8', 'O1', 'Oz', 'O2']"
      ],
      "metadata": {
        "id": "1E41_nkOJ4Or"
      },
      "execution_count": 10,
      "outputs": []
    },
    {
      "cell_type": "code",
      "source": [
        "x = load_ds(subj_folder, picked)\n",
        "print(x.annotations)"
      ],
      "metadata": {
        "colab": {
          "base_uri": "https://localhost:8080/"
        },
        "id": "iaps95TiJ7ka",
        "outputId": "2caa0b71-9fb0-4ac3-b2a2-63c333e8a380"
      },
      "execution_count": 11,
      "outputs": [
        {
          "output_type": "stream",
          "name": "stdout",
          "text": [
            "File path: /content/drive/MyDrive/EEG data/Subject 4/record-[2024.03.10]_S9_1.gdf\n",
            "<Annotations | 67 segments: 1010 (1), 33024 (17), 769 (8), 770 (8), 800 (33)>\n"
          ]
        }
      ]
    },
    {
      "cell_type": "code",
      "source": [
        "channel_mapping = {old_name: new_name for old_name, new_name in zip(x.ch_names, ch_list)}\n",
        "x.rename_channels(channel_mapping)"
      ],
      "metadata": {
        "colab": {
          "base_uri": "https://localhost:8080/",
          "height": 353
        },
        "id": "KbcI6L8rJ8yH",
        "outputId": "f4c490d6-1829-4d09-fdba-72fef5df4971"
      },
      "execution_count": 12,
      "outputs": [
        {
          "output_type": "execute_result",
          "data": {
            "text/plain": [
              "<RawGDF | record-[2024.03.10]_S9_1.gdf, 32 x 120544 (241.1 s), ~35 kB, data not loaded>"
            ],
            "text/html": [
              "<details open>\n",
              "    <summary><strong>General</strong></summary>\n",
              "    <table class=\"table table-hover table-striped table-sm table-responsive small\">\n",
              "        <tr>\n",
              "            <th>Measurement date</th>\n",
              "            \n",
              "            <td>Unknown</td>\n",
              "            \n",
              "        </tr>\n",
              "        <tr>\n",
              "            <th>Experimenter</th>\n",
              "            \n",
              "            <td>Unknown</td>\n",
              "            \n",
              "        </tr>\n",
              "        <tr>\n",
              "            <th>Participant</th>\n",
              "            \n",
              "            \n",
              "            <td>0x00000000</td>\n",
              "            \n",
              "            \n",
              "        </tr>\n",
              "    </table>\n",
              "    </details>\n",
              "    <details open>\n",
              "        <summary><strong>Channels</strong></summary>\n",
              "        <table class=\"table table-hover table-striped table-sm table-responsive small\">\n",
              "            <tr>\n",
              "                <th>Digitized points</th>\n",
              "                \n",
              "                <td>Not available</td>\n",
              "                \n",
              "            </tr>\n",
              "            <tr>\n",
              "                <th>Good channels</th>\n",
              "                <td>32 EEG</td>\n",
              "            </tr>\n",
              "            <tr>\n",
              "                <th>Bad channels</th>\n",
              "                <td>None</td>\n",
              "            </tr>\n",
              "            <tr>\n",
              "                <th>EOG channels</th>\n",
              "                <td>Not available</td>\n",
              "            </tr>\n",
              "            <tr>\n",
              "                <th>ECG channels</th>\n",
              "                <td>Not available</td>\n",
              "            </tr>\n",
              "        </table>\n",
              "        </details>\n",
              "        <details open>\n",
              "            <summary><strong>Data</strong></summary>\n",
              "            <table class=\"table table-hover table-striped table-sm table-responsive small\">\n",
              "                \n",
              "                <tr>\n",
              "                    <th>Sampling frequency</th>\n",
              "                    <td>500.00 Hz</td>\n",
              "                </tr>\n",
              "                \n",
              "                \n",
              "                <tr>\n",
              "                    <th>Highpass</th>\n",
              "                    <td>0.00 Hz</td>\n",
              "                </tr>\n",
              "                \n",
              "                \n",
              "                <tr>\n",
              "                    <th>Lowpass</th>\n",
              "                    <td>250.00 Hz</td>\n",
              "                </tr>\n",
              "                \n",
              "                \n",
              "                \n",
              "                <tr>\n",
              "                    <th>Filenames</th>\n",
              "                    <td>record-[2024.03.10]_S9_1.gdf</td>\n",
              "                </tr>\n",
              "                \n",
              "                \n",
              "                <tr>\n",
              "                    <th>Duration</th>\n",
              "                    <td>00:04:02 (HH:MM:SS)</td>\n",
              "                </tr>\n",
              "                \n",
              "            </table>\n",
              "            </details>"
            ]
          },
          "metadata": {},
          "execution_count": 12
        }
      ]
    },
    {
      "cell_type": "code",
      "source": [
        "x.compute_psd(fmax=50).plot(picks=\"data\", exclude=\"bads\", amplitude=False)"
      ],
      "metadata": {
        "id": "OmPVALa1xHSc"
      },
      "execution_count": null,
      "outputs": []
    },
    {
      "cell_type": "code",
      "source": [
        "# Create a standard montage (e.g., 10-20 system)\n",
        "montage = mne.channels.make_standard_montage('standard_1020')\n",
        "\n",
        "# Plot the montage to visualize the electrode positions\n",
        "fig, ax = plt.subplots(figsize=(6, 6))\n",
        "_ = montage.plot(show_names=True, axes=ax)\n",
        "_ = x.set_montage(montage)"
      ],
      "metadata": {
        "id": "BpTqpfV7J91d"
      },
      "execution_count": null,
      "outputs": []
    },
    {
      "cell_type": "code",
      "source": [
        "events_from_annot, event_dict = mne.events_from_annotations(x)\n",
        "# print(events_from_annot)\n",
        "print(event_dict)"
      ],
      "metadata": {
        "colab": {
          "base_uri": "https://localhost:8080/"
        },
        "id": "xuoQBd8VJ_Rp",
        "outputId": "e0072b38-b454-4612-acd9-f30cf1ac364b"
      },
      "execution_count": 15,
      "outputs": [
        {
          "output_type": "stream",
          "name": "stdout",
          "text": [
            "{'1010': 1, '33024': 2, '769': 3, '770': 4, '800': 5}\n"
          ]
        }
      ]
    },
    {
      "cell_type": "code",
      "source": [
        "l_ev = event_dict['769']\n",
        "r_ev = event_dict['770']\n",
        "x_ev = event_dict['33024']\n",
        "end_trial = event_dict['800']\n",
        "needed_event = [l_ev, r_ev, x_ev, end_trial]\n",
        "print(events_from_annot.shape)"
      ],
      "metadata": {
        "colab": {
          "base_uri": "https://localhost:8080/"
        },
        "id": "-mFfoOwMKAoO",
        "outputId": "85f5b2d5-d32d-4ff6-c0fc-9f8fd85aecec"
      },
      "execution_count": 16,
      "outputs": [
        {
          "output_type": "stream",
          "name": "stdout",
          "text": [
            "(67, 3)\n"
          ]
        }
      ]
    },
    {
      "cell_type": "code",
      "source": [
        "re = events_from_annot[::-1, 2].tolist()  # reverse\n",
        "last_id = re.index(end_trial)\n",
        "# delete the end_trail event\n",
        "if last_id > 0:\n",
        "  events_annot = events_from_annot[:-last_id]\n",
        "else:\n",
        "  events_annot = events_from_annot[:]"
      ],
      "metadata": {
        "id": "LIAacoJ7KBsJ"
      },
      "execution_count": 17,
      "outputs": []
    },
    {
      "cell_type": "code",
      "source": [
        "# Extract rows from events_annot that contain specified event values.\n",
        "mask = np.isin(events_annot[:, 2], needed_event)\n",
        "filtered_events = events_annot[mask]\n",
        "# print(filtered_events)"
      ],
      "metadata": {
        "id": "iHhcQ4gRKC7h"
      },
      "execution_count": 18,
      "outputs": []
    },
    {
      "cell_type": "code",
      "source": [
        "# Time difference between\n",
        "a = np.diff(filtered_events[:, 0])/x.info['sfreq']\n",
        "# Durations\n",
        "dur = round(np.mean(a[::2]),2)\n",
        "print(dur)"
      ],
      "metadata": {
        "colab": {
          "base_uri": "https://localhost:8080/"
        },
        "id": "nMX921iUKD3K",
        "outputId": "9aae541c-2077-48a6-9bbd-7f640e3cf049"
      },
      "execution_count": 19,
      "outputs": [
        {
          "output_type": "stream",
          "name": "stdout",
          "text": [
            "6.21\n"
          ]
        }
      ]
    },
    {
      "cell_type": "code",
      "source": [
        "unique, counts = np.unique(filtered_events[:,2], return_counts=True)\n",
        "print(unique)\n",
        "print(counts)"
      ],
      "metadata": {
        "colab": {
          "base_uri": "https://localhost:8080/"
        },
        "id": "EvZ438JxKE-9",
        "outputId": "886e561e-6ddb-4102-f37e-c6fd37d32c5a"
      },
      "execution_count": 20,
      "outputs": [
        {
          "output_type": "stream",
          "name": "stdout",
          "text": [
            "[2 3 4 5]\n",
            "[17  8  8 33]\n"
          ]
        }
      ]
    },
    {
      "cell_type": "code",
      "source": [
        "st = 0"
      ],
      "metadata": {
        "id": "mDBsUWauKF75"
      },
      "execution_count": 21,
      "outputs": []
    },
    {
      "cell_type": "code",
      "source": [
        "epoch_l = mne.Epochs(x, events_from_annot, event_id=l_ev, tmin=st, tmax=st+dur, baseline=None, preload=True)\n",
        "epoch_r = mne.Epochs(x, events_from_annot, event_id=r_ev, tmin=st, tmax=st+dur, baseline=None, preload=True)\n",
        "epoch_x = mne.Epochs(x, events_from_annot, event_id=x_ev, tmin=st, tmax=st+dur, baseline=None, preload=True)"
      ],
      "metadata": {
        "id": "Kq0vMeI9KG-S"
      },
      "execution_count": 22,
      "outputs": []
    },
    {
      "cell_type": "code",
      "source": [
        "print(epoch_l)\n",
        "print(epoch_r)\n",
        "print(epoch_x)"
      ],
      "metadata": {
        "colab": {
          "base_uri": "https://localhost:8080/"
        },
        "id": "tddqud0aKIZv",
        "outputId": "dacafbea-53c2-4f75-d8a2-08998d81048d"
      },
      "execution_count": 23,
      "outputs": [
        {
          "output_type": "stream",
          "name": "stdout",
          "text": [
            "<Epochs |  8 events (all good), 0 – 6.21 s, baseline off, ~6.1 MB, data loaded,\n",
            " '3': 8>\n",
            "<Epochs |  8 events (all good), 0 – 6.21 s, baseline off, ~6.1 MB, data loaded,\n",
            " '4': 8>\n",
            "<Epochs |  16 events (all good), 0 – 6.21 s, baseline off, ~12.2 MB, data loaded,\n",
            " '2': 16>\n"
          ]
        }
      ]
    },
    {
      "cell_type": "code",
      "source": [
        "#filter with specific bandpass\n",
        "\n",
        "# epoch_l.filter(l_freq=1, h_freq=40)\n",
        "# epoch_r.filter(l_freq=1, h_freq=40)\n",
        "# epoch_x.filter(l_freq=1, h_freq=40)\n",
        "\n",
        "# alpha\n",
        "epoch_l.filter(l_freq=8, h_freq=12)\n",
        "epoch_r.filter(l_freq=8, h_freq=12)\n",
        "epoch_x.filter(l_freq=8, h_freq=12)\n",
        "\n",
        "# beta\n",
        "# epoch_l.filter(l_freq=13, h_freq=30)\n",
        "# epoch_r.filter(l_freq=13, h_freq=30)\n",
        "# epoch_x.filter(l_freq=13, h_freq=30)"
      ],
      "metadata": {
        "colab": {
          "base_uri": "https://localhost:8080/",
          "height": 104
        },
        "id": "nR9eksu0KJbT",
        "outputId": "94dfe2ed-7653-4ce6-e8ad-f9289aef34e4"
      },
      "execution_count": 24,
      "outputs": [
        {
          "output_type": "execute_result",
          "data": {
            "text/plain": [
              "<Epochs |  16 events (all good), 0 – 6.21 s, baseline off, ~12.2 MB, data loaded,\n",
              " '2': 16>"
            ],
            "text/html": [
              "<table class=\"table table-hover table-striped table-sm table-responsive small\">\n",
              "    <tr>\n",
              "        <th>Number of events</th>\n",
              "        <td>16</td>\n",
              "    </tr>\n",
              "    <tr>\n",
              "        <th>Events</th>\n",
              "        \n",
              "        <td>2: 16</td>\n",
              "        \n",
              "    </tr>\n",
              "    <tr>\n",
              "        <th>Time range</th>\n",
              "        <td>0.000 – 6.210 s</td>\n",
              "    </tr>\n",
              "    <tr>\n",
              "        <th>Baseline</th>\n",
              "        <td>off</td>\n",
              "    </tr>\n",
              "</table>"
            ]
          },
          "metadata": {},
          "execution_count": 24
        }
      ]
    },
    {
      "cell_type": "code",
      "source": [
        "ep_n = 0 #@param {type:\"integer\"}"
      ],
      "metadata": {
        "id": "diUQW2KzKKiG"
      },
      "execution_count": 25,
      "outputs": []
    },
    {
      "cell_type": "code",
      "source": [
        "sub_dur = 2\n",
        "stride = 0.25\n",
        "sf = x.info['sfreq']"
      ],
      "metadata": {
        "id": "nG0TsDl5KNV4"
      },
      "execution_count": 26,
      "outputs": []
    },
    {
      "cell_type": "code",
      "source": [
        "def sub_epochs(epochs):\n",
        "  smaller_epochs = []\n",
        "  for epoch in epochs:\n",
        "    data = epoch[np.newaxis,:,:]\n",
        "    # Calculate the number of smaller epochs that can be created\n",
        "    n_epochs = (data.shape[2] - (sub_dur * sf)) // (stride * sf) + 1\n",
        "    for i in range(int(n_epochs)):\n",
        "        start_sample = int(i * (stride * sf))\n",
        "        end_sample = start_sample + int(sub_dur * sf)\n",
        "        smaller_epoch_data = data[:, :, start_sample:end_sample]\n",
        "\n",
        "        # Create a new Epoch object with the smaller epoch data\n",
        "        smaller_epoch = mne.EpochsArray(smaller_epoch_data, info=epochs.info)\n",
        "        smaller_epochs.append(smaller_epoch)\n",
        "\n",
        "  # Combine all the smaller epochs into a single Epochs object\n",
        "  smaller_epochs = mne.epochs.concatenate_epochs(smaller_epochs)\n",
        "  return smaller_epochs\n",
        "def create_label(size, lbl):\n",
        "  return np.full(size, lbl)"
      ],
      "metadata": {
        "id": "cZYc5kBKKSXL"
      },
      "execution_count": 27,
      "outputs": []
    },
    {
      "cell_type": "code",
      "source": [
        "mini_ep_l = sub_epochs(epoch_l)\n",
        "mini_ep_r = sub_epochs(epoch_r)\n",
        "mini_ep_x = sub_epochs(epoch_x)"
      ],
      "metadata": {
        "id": "SZydhZMfKToH"
      },
      "execution_count": 28,
      "outputs": []
    },
    {
      "cell_type": "code",
      "source": [
        "print(len(mini_ep_l)/8)\n",
        "print(len(mini_ep_r)/8)\n",
        "print(len(mini_ep_x)/8)\n",
        "# 1 Epoch --> 17 sub-epoch --> Use index | 2[Early] ---- 8 [Mid] ---- 15[Late] |"
      ],
      "metadata": {
        "colab": {
          "base_uri": "https://localhost:8080/"
        },
        "id": "ZioL8u_GKUzV",
        "outputId": "0bd11613-ac63-46a7-f269-97fea306695d"
      },
      "execution_count": 29,
      "outputs": [
        {
          "output_type": "stream",
          "name": "stdout",
          "text": [
            "17.0\n",
            "17.0\n",
            "34.0\n"
          ]
        }
      ]
    },
    {
      "cell_type": "code",
      "source": [
        "ep_l = mini_ep_l.get_data()\n",
        "ep_r = mini_ep_r.get_data()\n",
        "ep_x = mini_ep_x.get_data()"
      ],
      "metadata": {
        "colab": {
          "base_uri": "https://localhost:8080/"
        },
        "id": "zbww5zPZKV9F",
        "outputId": "05ee183d-74fe-4335-be4f-939e5419f36b"
      },
      "execution_count": 30,
      "outputs": [
        {
          "output_type": "stream",
          "name": "stderr",
          "text": [
            "<ipython-input-30-744d8960eed5>:1: FutureWarning: The current default of copy=False will change to copy=True in 1.7. Set the value of copy explicitly to avoid this warning\n",
            "  ep_l = mini_ep_l.get_data()\n",
            "<ipython-input-30-744d8960eed5>:2: FutureWarning: The current default of copy=False will change to copy=True in 1.7. Set the value of copy explicitly to avoid this warning\n",
            "  ep_r = mini_ep_r.get_data()\n",
            "<ipython-input-30-744d8960eed5>:3: FutureWarning: The current default of copy=False will change to copy=True in 1.7. Set the value of copy explicitly to avoid this warning\n",
            "  ep_x = mini_ep_x.get_data()\n"
          ]
        }
      ]
    },
    {
      "cell_type": "code",
      "source": [
        "lbl_l = create_label(ep_l.shape[0], 1)\n",
        "lbl_r = create_label(ep_r.shape[0], 2)\n",
        "lbl_x = create_label(ep_x.shape[0], 0)"
      ],
      "metadata": {
        "id": "174KT3tMKdFv"
      },
      "execution_count": 31,
      "outputs": []
    },
    {
      "cell_type": "code",
      "source": [
        "print(ep_l.shape)\n",
        "print(lbl_l.shape)"
      ],
      "metadata": {
        "colab": {
          "base_uri": "https://localhost:8080/"
        },
        "id": "V29_DyqRKeSf",
        "outputId": "37534aa2-4d0e-4058-87a5-c18ca4660ca8"
      },
      "execution_count": 32,
      "outputs": [
        {
          "output_type": "stream",
          "name": "stdout",
          "text": [
            "(136, 32, 1000)\n",
            "(136,)\n"
          ]
        }
      ]
    },
    {
      "cell_type": "code",
      "source": [
        "epoch_data = np.concatenate((ep_l, ep_r, ep_x),axis=0)\n",
        "label_data = np.concatenate((lbl_l, lbl_r, lbl_x),axis=0)\n",
        "# print(epoch_data)\n",
        "print(len(label_data))"
      ],
      "metadata": {
        "colab": {
          "base_uri": "https://localhost:8080/"
        },
        "id": "HrwnaMcRKfPZ",
        "outputId": "902d26b0-ad2e-41ea-80ab-35da29f0f1d4"
      },
      "execution_count": 33,
      "outputs": [
        {
          "output_type": "stream",
          "name": "stdout",
          "text": [
            "544\n"
          ]
        }
      ]
    },
    {
      "cell_type": "code",
      "source": [
        "print(label_data)"
      ],
      "metadata": {
        "id": "C6g9V8YcSAyG"
      },
      "execution_count": null,
      "outputs": []
    },
    {
      "cell_type": "markdown",
      "source": [
        "###LDA"
      ],
      "metadata": {
        "id": "1hANWq3N1d1Y"
      }
    },
    {
      "cell_type": "code",
      "source": [
        "from sklearn.discriminant_analysis import LinearDiscriminantAnalysis\n",
        "from sklearn.pipeline import Pipeline\n",
        "from sklearn.model_selection import train_test_split\n",
        "\n",
        "\n",
        "X_train, X_test, y_train, y_test = train_test_split(epoch_data, label_data, test_size=0.2, random_state=42)\n",
        "X_train_flat = X_train.reshape(X_train.shape[0], -1)\n",
        "\n",
        "\n",
        "lda = LinearDiscriminantAnalysis()\n",
        "clf = Pipeline([(\"LDA\", lda)])\n",
        "clf.fit(X_train_flat, y_train)\n",
        "accuracy = clf.score(X_test.reshape(X_test.shape[0], -1), y_test)\n",
        "print(\"Classification accuracy: %f\" % np.mean(accuracy))\n"
      ],
      "metadata": {
        "colab": {
          "base_uri": "https://localhost:8080/"
        },
        "id": "jqSy4fT38rZc",
        "outputId": "62111c94-9004-457e-f16e-ad0f56780737"
      },
      "execution_count": 36,
      "outputs": [
        {
          "output_type": "stream",
          "name": "stdout",
          "text": [
            "Classification accuracy: 0.394495\n"
          ]
        }
      ]
    },
    {
      "cell_type": "markdown",
      "source": [
        "###SVM"
      ],
      "metadata": {
        "id": "ItUq20NMkeQd"
      }
    },
    {
      "cell_type": "code",
      "source": [
        "from sklearn.svm import SVC\n",
        "from sklearn.pipeline import Pipeline\n",
        "from sklearn.model_selection import train_test_split\n",
        "\n",
        "X_train, X_test, y_train, y_test = train_test_split(epoch_data, label_data, test_size=0.2, random_state=42)\n",
        "X_train_flat = X_train.reshape(X_train.shape[0], -1)\n",
        "\n",
        "svc = SVC(kernel='rbf', probability=True)\n",
        "clf = Pipeline([(\"SVM\", svc)])\n",
        "clf.fit(X_train_flat, y_train)\n",
        "accuracy = clf.score(X_test.reshape(X_test.shape[0], -1), y_test)\n",
        "print(\"Classification accuracy: %f\" % np.mean(accuracy))\n"
      ],
      "metadata": {
        "colab": {
          "base_uri": "https://localhost:8080/"
        },
        "id": "529gSGqvkd1w",
        "outputId": "bda0dcd8-2cba-488c-9187-62196ff375ef"
      },
      "execution_count": 38,
      "outputs": [
        {
          "output_type": "stream",
          "name": "stdout",
          "text": [
            "Classification accuracy: 0.477064\n"
          ]
        }
      ]
    },
    {
      "cell_type": "markdown",
      "source": [
        "###CSP + LDA"
      ],
      "metadata": {
        "id": "HMslaYkU1NuL"
      }
    },
    {
      "cell_type": "code",
      "source": [
        "from sklearn.discriminant_analysis import LinearDiscriminantAnalysis\n",
        "from sklearn.model_selection import train_test_split\n",
        "from sklearn.model_selection import ShuffleSplit, cross_val_score\n",
        "from sklearn.pipeline import Pipeline\n",
        "from mne.decoding import CSP"
      ],
      "metadata": {
        "id": "pgdat7jdKiyb"
      },
      "execution_count": 42,
      "outputs": []
    },
    {
      "cell_type": "markdown",
      "source": [
        "####Without Cross-Valid"
      ],
      "metadata": {
        "id": "SmW2jSIuo5V-"
      }
    },
    {
      "cell_type": "code",
      "source": [
        "X_train, X_test, y_train, y_test = train_test_split(epoch_data, label_data, test_size=0.2, random_state=42)\n",
        "lda = LinearDiscriminantAnalysis()\n",
        "csp = CSP(n_components=4, reg=None, log=True, norm_trace=False)\n",
        "clf = Pipeline([(\"CSP\", csp), (\"LDA\", lda)])\n",
        "clf.fit(X_train, y_train)\n",
        "accuracy = clf.score(X_test, y_test)\n",
        "print(\"Classification accuracy: %f\" % np.mean(accuracy))"
      ],
      "metadata": {
        "id": "hQ97aGb5KsHe"
      },
      "execution_count": null,
      "outputs": []
    },
    {
      "cell_type": "markdown",
      "source": [
        "####Cross-Valid"
      ],
      "metadata": {
        "id": "RlN91GoTpKmQ"
      }
    },
    {
      "cell_type": "code",
      "source": [
        "X_train, X_test, y_train, y_test = train_test_split(epoch_data, label_data, test_size=0.2, random_state=42)\n",
        "cv = ShuffleSplit(5, test_size=0.2, random_state=42)\n",
        "cv_split = cv.split(X_train, y_train)"
      ],
      "metadata": {
        "id": "stmE0bfTKtUc"
      },
      "execution_count": 46,
      "outputs": []
    },
    {
      "cell_type": "code",
      "source": [
        "lda = LinearDiscriminantAnalysis()\n",
        "csp = CSP(n_components=4, reg=None, log=True, norm_trace=False)"
      ],
      "metadata": {
        "id": "cmgQmOM_KuiM"
      },
      "execution_count": 47,
      "outputs": []
    },
    {
      "cell_type": "code",
      "source": [
        "clf = Pipeline([(\"CSP\", csp), (\"LDA\", lda)])\n",
        "scores = cross_val_score(clf, X_train, y_train, cv=cv, n_jobs=None)"
      ],
      "metadata": {
        "id": "xwbsNE0uKvnT"
      },
      "execution_count": 48,
      "outputs": []
    },
    {
      "cell_type": "code",
      "source": [
        "class_balance = np.mean(y_train == y_train[0])\n",
        "class_balance = max(class_balance, 1.0 - class_balance)\n",
        "print(\n",
        "    \"Classification accuracy: %f / Chance level: %f\" % (np.mean(scores), class_balance)\n",
        ")"
      ],
      "metadata": {
        "colab": {
          "base_uri": "https://localhost:8080/"
        },
        "id": "VwHallFNKwq0",
        "outputId": "9403ce97-555d-4e79-9711-7dba52525f84"
      },
      "execution_count": 49,
      "outputs": [
        {
          "output_type": "stream",
          "name": "stdout",
          "text": [
            "Classification accuracy: 0.721839 / Chance level: 0.737931\n"
          ]
        }
      ]
    },
    {
      "cell_type": "markdown",
      "source": [
        "###CSP + SVM"
      ],
      "metadata": {
        "id": "eJWbVfj408Ku"
      }
    },
    {
      "cell_type": "code",
      "source": [
        "from sklearn.svm import SVC\n",
        "from sklearn.preprocessing import StandardScaler\n",
        "cv = ShuffleSplit(5, test_size=0.2, random_state=42)\n",
        "cv_split = cv.split(X_train, y_train)\n",
        "svc = SVC(kernel='rbf', probability=True)\n",
        "csp = CSP(n_components=4, reg=None, log=True, norm_trace=False)\n",
        "scaler = StandardScaler()\n",
        "clf = Pipeline([(\"CSP\", csp), (\"SVM\", svc)])\n",
        "scores = cross_val_score(clf, X_train, y_train, cv=cv, n_jobs=None)\n",
        "\n",
        "# Printing the results\n",
        "class_balance = np.mean(y_train == y_train[0])\n",
        "class_balance = max(class_balance, 1.0 - class_balance)\n",
        "print(\"Classification accuracies: \" ,scores)\n",
        "print(\"Classification accuracy: %f / Chance level: %f\" % (np.mean(scores), class_balance))"
      ],
      "metadata": {
        "colab": {
          "base_uri": "https://localhost:8080/"
        },
        "id": "iCEZvAzFK0NU",
        "outputId": "8a50a504-a676-4207-9bcc-d714e6bcc73f"
      },
      "execution_count": 44,
      "outputs": [
        {
          "output_type": "stream",
          "name": "stdout",
          "text": [
            "Classification accuracies:  [0.72413793 0.73563218 0.77011494 0.75862069 0.75862069]\n",
            "Classification accuracy: 0.749425 / Chance level: 0.737931\n"
          ]
        }
      ]
    },
    {
      "cell_type": "markdown",
      "source": [
        "#Confusion matrix"
      ],
      "metadata": {
        "id": "dTBy6xlzg2Ex"
      }
    },
    {
      "cell_type": "code",
      "source": [
        "from sklearn.metrics import confusion_matrix\n",
        "import seaborn as sns\n",
        "import matplotlib.pyplot as plt\n",
        "from sklearn.model_selection import cross_val_predict\n",
        "\n",
        "cv = 5  # 這裡的 5 可以根據需要調整\n",
        "X_train, X_test, y_train, y_test = train_test_split(epoch_data, label_data, test_size=0.2, random_state=42)\n",
        "# X_train_flat = X_train.reshape(X_train.shape[0], -1)\n",
        "# # 使用 cross_val_predict 進行交叉驗證預測\n",
        "# clf = Pipeline([(\"CSP\", csp), (\"SVM\", svc)])\n",
        "clf = Pipeline([(\"CSP\", csp), (\"LDA\", lda)])\n",
        "# clf = Pipeline([(\"SVM\", svc)])\n",
        "# clf = Pipeline([(\"LDA\", lda)])\n",
        "y_pred = cross_val_predict(clf, X_train, y_train, cv=cv)\n",
        "\n",
        "# 計算混淆矩陣\n",
        "cm = confusion_matrix(y_train, y_pred)\n",
        "\n",
        "# 可視化混淆矩陣\n",
        "plt.figure(figsize=(8, 6))\n",
        "sns.heatmap(cm, annot=True, fmt='d', cmap='Blues', xticklabels=['0', '1', '2'])\n",
        "plt.xlabel('Predicted Label')\n",
        "plt.ylabel('True Label')\n",
        "plt.title('CSP+LDA')\n",
        "plt.show()\n"
      ],
      "metadata": {
        "colab": {
          "base_uri": "https://localhost:8080/",
          "height": 564
        },
        "id": "ghz_DgSbMGv5",
        "outputId": "e063131f-7070-4771-b741-689ebb585b66"
      },
      "execution_count": 50,
      "outputs": [
        {
          "output_type": "display_data",
          "data": {
            "text/plain": [
              "<Figure size 800x600 with 2 Axes>"
            ],
            "image/png": "[encoded data removed]"
          },
          "metadata": {}
        }
      ]
    },
    {
      "cell_type": "code",
      "source": [
        "# 訓練模型\n",
        "clf.fit(X_train, y_train)\n",
        "\n",
        "# 預測測試集\n",
        "y_pred = clf.predict(X_test)\n",
        "\n",
        "# 計算混淆矩陣\n",
        "cm = confusion_matrix(y_test, y_pred)\n",
        "\n",
        "# 可視化混淆矩陣\n",
        "plt.figure(figsize=(8, 6))\n",
        "sns.heatmap(cm, annot=True, fmt='d', cmap='Blues', xticklabels=['foot', 'left_hand', 'right_hand'])\n",
        "plt.xlabel('Predicted')\n",
        "plt.ylabel('True')\n",
        "plt.title('Confusion Matrix')\n",
        "plt.show()"
      ],
      "metadata": {
        "id": "W4w3etn9LtHW"
      },
      "execution_count": null,
      "outputs": []
    },
    {
      "cell_type": "markdown",
      "source": [
        "#Unsupervise Test"
      ],
      "metadata": {
        "id": "KgVenvrBhxGx"
      }
    },
    {
      "cell_type": "markdown",
      "source": [
        "###PCA"
      ],
      "metadata": {
        "id": "S1F6zWHLlOzR"
      }
    },
    {
      "cell_type": "code",
      "source": [
        "from sklearn.decomposition import PCA, FastICA\n",
        "from mne.decoding import UnsupervisedSpatialFilter\n",
        "from sklearn.cluster import KMeans\n",
        "pca = UnsupervisedSpatialFilter(PCA(5), average=False)\n",
        "pca_data = pca.fit_transform(epoch_data)\n",
        "print(pca_data.shape)\n",
        "print(epoch_data.shape)"
      ],
      "metadata": {
        "id": "r8kcOFkFh1vj",
        "colab": {
          "base_uri": "https://localhost:8080/"
        },
        "outputId": "15eef7b5-5ad0-42b1-9e8c-37d0cb79bc0f"
      },
      "execution_count": 173,
      "outputs": [
        {
          "output_type": "stream",
          "name": "stdout",
          "text": [
            "(544, 5, 1000)\n",
            "(544, 32, 1000)\n"
          ]
        }
      ]
    },
    {
      "cell_type": "markdown",
      "source": [
        "####K-Means"
      ],
      "metadata": {
        "id": "_Pjl45t6FWFY"
      }
    },
    {
      "cell_type": "code",
      "source": [
        "from sklearn.cluster import KMeans\n",
        "# 將PCA處理後的數據展平為2D\n",
        "pca_data_2d = pca_data.reshape(pca_data.shape[0], -1)\n",
        "\n",
        "# 初始化 K-Means 分群器，假設你希望分成 3 個群集\n",
        "kmeans = KMeans(n_clusters=3, random_state=42)\n",
        "\n",
        "# 對資料進行 K-Means 聚類\n",
        "cluster_labels = kmeans.fit_predict(pca_data_2d)"
      ],
      "metadata": {
        "id": "zNbWD1_EFVlX"
      },
      "execution_count": null,
      "outputs": []
    },
    {
      "cell_type": "markdown",
      "source": [
        "####DBSCAN"
      ],
      "metadata": {
        "id": "OD3JsRKmFYxs"
      }
    },
    {
      "cell_type": "code",
      "source": [
        "from sklearn.cluster import DBSCAN\n",
        "\n",
        "dbscan = DBSCAN(eps=0.5, min_samples=10)\n",
        "# 對資料進行 DBSCAN 聚類\n",
        "cluster_labels = dbscan.fit_predict(pca_data_2d)\n",
        "print(cluster_labels)"
      ],
      "metadata": {
        "id": "ce0hmDEcCu3d"
      },
      "execution_count": null,
      "outputs": []
    },
    {
      "cell_type": "code",
      "source": [
        "import numpy as np\n",
        "import matplotlib.pyplot as plt\n",
        "from mpl_toolkits.mplot3d import Axes3D\n",
        "\n",
        "# Visualize the K-Means clustering results in 3D space\n",
        "fig = plt.figure(figsize=(10, 8))\n",
        "ax = fig.add_subplot(111, projection='3d')\n",
        "\n",
        "# Plot points with different colors based on cluster labels\n",
        "for i in range(3):\n",
        "    ax.scatter(pca_data_2d[cluster_labels == i, 0],\n",
        "               pca_data_2d[cluster_labels == i, 1],\n",
        "               pca_data_2d[cluster_labels == i, 2],\n",
        "               label=f'Cluster {i}')\n",
        "\n",
        "# Add labels and title\n",
        "ax.set_xlabel('Principal Component 1')\n",
        "ax.set_ylabel('Principal Component 2')\n",
        "ax.set_zlabel('Principal Component 3')\n",
        "ax.set_title('DBSCAN Clustering in 3D Space')\n",
        "\n",
        "# Add legend\n",
        "ax.legend()\n",
        "\n",
        "# Show the plot\n",
        "plt.show()"
      ],
      "metadata": {
        "id": "5au2PQZE-Mk6"
      },
      "execution_count": null,
      "outputs": []
    },
    {
      "cell_type": "markdown",
      "source": [
        "###ICA"
      ],
      "metadata": {
        "id": "XNHWYCpblY7a"
      }
    },
    {
      "cell_type": "code",
      "source": [
        "ica = UnsupervisedSpatialFilter(FastICA(5, whiten=\"unit-variance\"), average=False)\n",
        "ica_data = ica.fit_transform(epoch_data)\n",
        "print(ica_data.shape)"
      ],
      "metadata": {
        "colab": {
          "base_uri": "https://localhost:8080/"
        },
        "id": "NAKBxMs1m4iB",
        "outputId": "01442b58-fc77-4d90-908d-1a7a6319368b"
      },
      "execution_count": 152,
      "outputs": [
        {
          "output_type": "stream",
          "name": "stdout",
          "text": [
            "(544, 5, 1000)\n"
          ]
        }
      ]
    },
    {
      "cell_type": "markdown",
      "source": [
        "####K-Means"
      ],
      "metadata": {
        "id": "_kurrqIpFEH1"
      }
    },
    {
      "cell_type": "code",
      "source": [
        "# 初始化 K-Means 分群器，假設你希望分成 3 個群集\n",
        "kmeans = KMeans(n_clusters=3, random_state=42)\n",
        "ica_data_2d = ica_data.reshape(ica_data.shape[0], -1)\n",
        "cluster_labels = kmeans.fit_predict(ica_data_2d)\n",
        "# print(cluster_labels)"
      ],
      "metadata": {
        "colab": {
          "base_uri": "https://localhost:8080/"
        },
        "id": "A_hU_zlH_ToH",
        "outputId": "d16cb16b-4acd-424d-bdf5-fabfcde3559f"
      },
      "execution_count": 153,
      "outputs": [
        {
          "output_type": "stream",
          "name": "stderr",
          "text": [
            "/usr/local/lib/python3.10/dist-packages/sklearn/cluster/_kmeans.py:870: FutureWarning: The default value of `n_init` will change from 10 to 'auto' in 1.4. Set the value of `n_init` explicitly to suppress the warning\n",
            "  warnings.warn(\n"
          ]
        }
      ]
    },
    {
      "cell_type": "markdown",
      "source": [
        "####DBSCAN"
      ],
      "metadata": {
        "id": "NIE29Qg1FHjH"
      }
    },
    {
      "cell_type": "code",
      "source": [
        "ica_data_2d = ica_data.reshape(ica_data.shape[0], -1)\n",
        "dbscan = DBSCAN(eps=0.2, min_samples=8)\n",
        "# 對資料進行 DBSCAN 聚類\n",
        "cluster_labels = dbscan.fit_predict(ica_data_2d)\n",
        "print(cluster_labels)"
      ],
      "metadata": {
        "id": "j0friCD3EvSN"
      },
      "execution_count": null,
      "outputs": []
    },
    {
      "cell_type": "code",
      "source": [
        "fig = plt.figure(figsize=(10, 8))\n",
        "ax = fig.add_subplot(111, projection='3d')\n",
        "for i in range(3):\n",
        "    ax.scatter(ica_data_2d[cluster_labels == i, 0],\n",
        "               ica_data_2d[cluster_labels == i, 1],\n",
        "               ica_data_2d[cluster_labels == i, 2],\n",
        "               label=f'Cluster {i}')\n",
        "\n",
        "# 添加標籤和標題\n",
        "ax.set_xlabel('Principal Component 1')\n",
        "ax.set_ylabel('Principal Component 2')\n",
        "ax.set_zlabel('Principal Component 3')\n",
        "ax.set_title('DBSCAN Clustering in 3D Space')\n",
        "\n",
        "# 添加圖例\n",
        "ax.legend()\n",
        "\n",
        "# ax.view_init(elev=0, azim=60)\n",
        "\n",
        "# 顯示圖形\n",
        "plt.show()"
      ],
      "metadata": {
        "id": "VIRosfYm_kfy"
      },
      "execution_count": null,
      "outputs": []
    },
    {
      "cell_type": "code",
      "source": [
        "from sklearn.metrics import adjusted_rand_score, mutual_info_score, fowlkes_mallows_score\n",
        "\n",
        "# Assuming ground_truth_labels are the ground truth labels\n",
        "# Assuming cluster_labels are the labels predicted by K-Means\n",
        "\n",
        "# Adjusted Rand Index (ARI)\n",
        "ari = adjusted_rand_score(label_data, cluster_labels)\n",
        "print(\"Adjusted Rand Index (ARI):\", ari)\n",
        "\n",
        "# Mutual Information (MI)\n",
        "mi = mutual_info_score(label_data, cluster_labels)\n",
        "print(\"Mutual Information (MI):\", mi)\n",
        "\n",
        "# Fowlkes-Mallows Index (FMI)\n",
        "fmi = fowlkes_mallows_score(label_data, cluster_labels)\n",
        "print(\"Fowlkes-Mallows Index (FMI):\", fmi)\n"
      ],
      "metadata": {
        "colab": {
          "base_uri": "https://localhost:8080/"
        },
        "id": "56XgD6akaBbN",
        "outputId": "8ef3b245-64f5-4200-de55-696c773a5a8d"
      },
      "execution_count": 171,
      "outputs": [
        {
          "output_type": "stream",
          "name": "stdout",
          "text": [
            "Adjusted Rand Index (ARI): 0.0\n",
            "Mutual Information (MI): 0.0\n",
            "Fowlkes-Mallows Index (FMI): 0.6114319153500704\n"
          ]
        }
      ]
    },
    {
      "cell_type": "code",
      "source": [
        "# --------------------------------------------------------------------machine learning--------------------------------------------------------------------"
      ],
      "metadata": {
        "id": "JHDQ_yIec6PB"
      },
      "execution_count": null,
      "outputs": []
    }
  ]
}